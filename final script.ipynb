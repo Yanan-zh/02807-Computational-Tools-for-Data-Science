{
 "cells": [
  {
   "cell_type": "markdown",
   "id": "034c3ee4",
   "metadata": {},
   "source": [
    "# install packages"
   ]
  },
  {
   "cell_type": "code",
   "execution_count": null,
   "id": "d89ebcc3",
   "metadata": {},
   "outputs": [],
   "source": [
    "import numpy as np\n",
    "import pandas as pd\n",
    "import seaborn as sns\n",
    "import matplotlib.pyplot as plt\n",
    "import folium\n",
    "import dataframe_image as dfi"
   ]
  },
  {
   "cell_type": "code",
   "execution_count": null,
   "id": "0d6eb2da",
   "metadata": {},
   "outputs": [],
   "source": []
  },
  {
   "cell_type": "markdown",
   "id": "3e6b2a0d",
   "metadata": {},
   "source": [
    "# Data processing "
   ]
  },
  {
   "cell_type": "code",
   "execution_count": null,
   "id": "fe8468db",
   "metadata": {},
   "outputs": [],
   "source": [
    "#load data\n",
    "df = pd.read_csv('../../US_Accidents_May19_Migrated Data.csv')"
   ]
  },
  {
   "cell_type": "code",
   "execution_count": null,
   "id": "1d915853",
   "metadata": {},
   "outputs": [],
   "source": [
    "#dataset observing\n",
    "df.shape\n",
    "df.head()\n",
    "df.isnull().sum()"
   ]
  },
  {
   "cell_type": "code",
   "execution_count": null,
   "id": "7c43e49d",
   "metadata": {},
   "outputs": [],
   "source": [
    "# selecting attribute\n",
    "df.drop = df[['ID','City','State','Severity','Visibility(mi)','Start_Lat','Start_Lng', \n",
    "            'count Traffic Signal','Count of Crossing','count of Bump','Description','Count of accidents',\n",
    "             'Weather_Condition','Humidity(%)','Precipitation(in)','Wind_Chill(F)','Wind_Speed(mph)']]\n",
    "df.drop = pd.get_dummies(df.drop, columns=['Amenity', \n",
    "    'Bump', \n",
    "    'Crossing',\n",
    "    'Give_Way', \n",
    "    'Junction', \n",
    "    'No_Exit',\n",
    "    'Railway', \n",
    "    'Roundabout', \n",
    "    'Station',\n",
    "    'Stop', \n",
    "    'Traffic_Calming',\n",
    "    'Traffic_Signal', \n",
    "    'Turning_Loop'])"
   ]
  },
  {
   "cell_type": "code",
   "execution_count": null,
   "id": "f1f455dd",
   "metadata": {},
   "outputs": [],
   "source": [
    "# print description table as a plot\n",
    "table = df.drop.describe()\n",
    "\n",
    "dfi.export(table, 'dataframe.png')\n",
    "table"
   ]
  },
  {
   "cell_type": "code",
   "execution_count": null,
   "id": "487f3d8e",
   "metadata": {},
   "outputs": [],
   "source": [
    "# visilize count of accident in each state\n",
    "states = df.State.unique()\n",
    "count_by_state=[]\n",
    "for i in df.State.unique():\n",
    "    count_by_state.append(df[df['State']==i].count()['ID'])\n",
    "\n",
    "fig,ax = plt.subplots(figsize=(16,10))\n",
    "sns.barplot(states,count_by_state)"
   ]
  },
  {
   "cell_type": "code",
   "execution_count": null,
   "id": "64876cbf",
   "metadata": {},
   "outputs": [],
   "source": [
    "#find top 10 city having accident\n",
    "top_cities=df[\"City\"].value_counts().sort_values()[-20:].reset_index()\n",
    "top_cities.columns=[\"city\",\"number_of_accidents\"]\n",
    "\n",
    "plt.figure(figsize=(10,7))\n",
    "sns.barplot(x=\"city\",y=\"accidents number\",data=top_cities)\n",
    "plt.title(\"TOP 10 CITIES WITH HIGHEST NUMBER OF ACCIDENTS\",fontsize=20)\n",
    "plt.xticks(rotation=40)\n",
    "plt.show()"
   ]
  },
  {
   "cell_type": "code",
   "execution_count": null,
   "id": "7bad1787",
   "metadata": {},
   "outputs": [],
   "source": [
    "# map represent accident severity \n",
    "\n",
    "severity_cols = {\n",
    "    0: 'green',\n",
    "    1: 'palegreen',\n",
    "    2: 'papayawhip',\n",
    "    3: 'lightsalmon',\n",
    "    4: 'tomato'\n",
    "}\n",
    "\n",
    "vcol = [severity_cols[i] for i in df['Severity']]\n",
    "\n",
    "ax = plt.scatter(df['Start_Lng'], df['Start_Lat'],c = vcol,s=2)\n",
    "plt.title('Accidents representating map by severity level')\n",
    "fig = ax.get_figure()\n",
    "fig.savefig('Severity.png')"
   ]
  },
  {
   "cell_type": "code",
   "execution_count": null,
   "id": "1e89b025",
   "metadata": {},
   "outputs": [],
   "source": [
    "# percentage of accident including road params, save as plot\n",
    "road_params = [\n",
    "    'Amenity', \n",
    "    'Bump', \n",
    "    'Crossing',\n",
    "    'Give_Way', \n",
    "    'Junction', \n",
    "    'No_Exit',\n",
    "    'Railway', \n",
    "    'Roundabout', \n",
    "    'Station',\n",
    "    'Stop', \n",
    "    'Traffic_Calming',\n",
    "    'Traffic_Signal', \n",
    "    'Turning_Loop']\n",
    "\n",
    "# % of accident including road params\n",
    "road_param_percent = df.loc[:, road_params].sum() / len(df)\n",
    "plt.title('Presence of road element near accidents')\n",
    "plt.xlabel('% of total of accidents')\n",
    "ax=road_param_percent.sort_values().plot(kind='barh');\n",
    "\n",
    "fig = ax.get_figure()\n",
    "fig.savefig('road.png')"
   ]
  },
  {
   "cell_type": "code",
   "execution_count": null,
   "id": "d47ec0e1",
   "metadata": {},
   "outputs": [],
   "source": [
    "# percentage of accident by Weather_Condition\n",
    "acc_by_weather_condition = df.groupby('Weather_Condition').size() / len(df)\n",
    "acc_by_weather_condition = acc_by_weather_condition[acc_by_weather_condition > 0.005]\n",
    "plt.title('Presence of weather condition during accidents')\n",
    "plt.xlabel('% of total of accidents')\n",
    "acc_by_weather_condition.sort_values().plot(kind='barh');"
   ]
  },
  {
   "cell_type": "code",
   "execution_count": null,
   "id": "f9c589f2",
   "metadata": {},
   "outputs": [],
   "source": []
  },
  {
   "cell_type": "markdown",
   "id": "819fbf0a",
   "metadata": {},
   "source": [
    "# Clustering"
   ]
  },
  {
   "cell_type": "markdown",
   "id": "5b83f5b0",
   "metadata": {},
   "source": [
    "## kmean"
   ]
  },
  {
   "cell_type": "code",
   "execution_count": null,
   "id": "35ebf97d",
   "metadata": {},
   "outputs": [],
   "source": []
  },
  {
   "cell_type": "code",
   "execution_count": null,
   "id": "85c487fd",
   "metadata": {},
   "outputs": [],
   "source": []
  },
  {
   "cell_type": "code",
   "execution_count": null,
   "id": "7ab55259",
   "metadata": {},
   "outputs": [],
   "source": []
  },
  {
   "cell_type": "markdown",
   "id": "f3fe689f",
   "metadata": {},
   "source": [
    "## DBSCAN"
   ]
  },
  {
   "cell_type": "code",
   "execution_count": null,
   "id": "6222af14",
   "metadata": {},
   "outputs": [],
   "source": [
    "# take lat and lng colunm filter Newyork data\n",
    "NY = df['City'] == 'New York'\n",
    "NY_df = df[NY]\n",
    "NY_loca_df = NY_df[['Start_Lat','Start_Lng']]\n",
    "NY_loca_df.columns = [\"latitude\", \"longitude\"]\n",
    "coords = NY_loca_df[[\"latitude\", \"longitude\"]]\n",
    "X = NY_loca_df.to_numpy()"
   ]
  },
  {
   "cell_type": "code",
   "execution_count": null,
   "id": "203d7111",
   "metadata": {},
   "outputs": [],
   "source": [
    "#simply plot new york accident coordinate \n",
    "plt.scatter( NY_loca_df[\"longitude\"],NY_loca_df[\"latitude\"],s=2)"
   ]
  },
  {
   "cell_type": "code",
   "execution_count": null,
   "id": "cac257d6",
   "metadata": {},
   "outputs": [],
   "source": [
    "# NearestNeighbors find knee point for optimal eps\n",
    "neigh = NearestNeighbors(n_neighbors=5)\n",
    "nbrs = neigh.fit(np.radians(X))\n",
    "distances, indices = nbrs.kneighbors(np.radians(X))\n",
    "distances = distances[:, 1]\n",
    "distances = np.sort(distances, axis=0)\n",
    "fig=plt.figure()\n",
    "plt.plot(distances)\n",
    "plt.xlim(4000, 5570)"
   ]
  },
  {
   "cell_type": "code",
   "execution_count": null,
   "id": "072f302f",
   "metadata": {},
   "outputs": [],
   "source": [
    "# first time try \n",
    "dbscan_cluster_model = DBSCAN(eps=0.000035, min_samples=5, algorithm='ball_tree', metric='haversine').fit(np.radians(X))\n",
    "dbscan_cluster_model\n",
    "dbscan_cluster_model.labels_\n",
    "NY_loca_df['cluster'] = dbscan_cluster_model.labels_\n",
    "location = NY_loca_df['latitude'].mean(), NY_loca_df['longitude'].mean()\n",
    "\n",
    "m = folium.Map(location=location,zoom_start=11,control_scale = True)\n",
    "\n",
    "folium.TileLayer('cartodbpositron').add_to(m)\n",
    "\n",
    "clust_colours = ['#a6cee3','#1f78b4','#b2df8a','#33a02c','#fb9a99','#e31a1c','#fdbf6f','#ff7f00','#cab2d6','#6a3d9a','#ffff99','#b15928']\n",
    "\n",
    "for i in range(0,len(NY_loca_df)):\n",
    "    colouridx = NY_loca_df['cluster'].iloc[i]\n",
    "    if colouridx == -1:\n",
    "        pass\n",
    "    else:\n",
    "        col = clust_colours[colouridx%len(clust_colours)]\n",
    "        folium.CircleMarker([NY_loca_df['latitude'].iloc[i],NY_loca_df['longitude'].iloc[i]], radius = 10, color = col, fill = col).add_to(m)\n",
    "\n",
    "m"
   ]
  },
  {
   "cell_type": "code",
   "execution_count": null,
   "id": "bb6bf7d4",
   "metadata": {},
   "outputs": [],
   "source": [
    "# find optimal min_samples based on \n",
    "\n",
    "ss(X, NY_loca_df['cluster'])\n"
   ]
  },
  {
   "cell_type": "code",
   "execution_count": null,
   "id": "5db49cb6",
   "metadata": {},
   "outputs": [],
   "source": []
  },
  {
   "cell_type": "code",
   "execution_count": null,
   "id": "be2bbf80",
   "metadata": {},
   "outputs": [],
   "source": []
  },
  {
   "cell_type": "code",
   "execution_count": null,
   "id": "cdeb6c74",
   "metadata": {},
   "outputs": [],
   "source": []
  },
  {
   "cell_type": "code",
   "execution_count": null,
   "id": "83e69a13",
   "metadata": {},
   "outputs": [],
   "source": []
  },
  {
   "cell_type": "code",
   "execution_count": null,
   "id": "3d0ed455",
   "metadata": {},
   "outputs": [],
   "source": [
    "# take lat and lng colunm \n",
    "US_loca_df = df[['Start_Lat','Start_Lng']]\n",
    "US_loca_df.columns = [\"latitude\", \"longitude\"]\n",
    "coords = US_loca_df[[\"latitude\", \"longitude\"]]\n",
    "X = US_loca_df.to_numpy()\n",
    "\n",
    "# random select 100000 samples from entire US data\n",
    "l = list(range(2243939))\n",
    "random.seed(10)\n",
    "pick = sorted(random.sample(l, 100000))"
   ]
  },
  {
   "cell_type": "code",
   "execution_count": null,
   "id": "ebfa0dc6",
   "metadata": {},
   "outputs": [],
   "source": [
    "##simply plot US accident coordinate \n",
    "plt.scatter( US_picked_df[\"longitude\"],US_picked_df[\"latitude\"],s=2)"
   ]
  },
  {
   "cell_type": "code",
   "execution_count": null,
   "id": "a623f5bd",
   "metadata": {},
   "outputs": [],
   "source": []
  },
  {
   "cell_type": "code",
   "execution_count": null,
   "id": "e91b4259",
   "metadata": {},
   "outputs": [],
   "source": []
  },
  {
   "cell_type": "code",
   "execution_count": null,
   "id": "d1c38609",
   "metadata": {},
   "outputs": [],
   "source": []
  },
  {
   "cell_type": "code",
   "execution_count": null,
   "id": "fedb091e",
   "metadata": {},
   "outputs": [],
   "source": []
  },
  {
   "cell_type": "code",
   "execution_count": null,
   "id": "53400867",
   "metadata": {},
   "outputs": [],
   "source": []
  },
  {
   "cell_type": "code",
   "execution_count": null,
   "id": "fb7682a3",
   "metadata": {},
   "outputs": [],
   "source": []
  },
  {
   "cell_type": "code",
   "execution_count": null,
   "id": "84fe0414",
   "metadata": {},
   "outputs": [],
   "source": []
  },
  {
   "cell_type": "markdown",
   "id": "9cf10ce8",
   "metadata": {},
   "source": [
    "# Text Similarity"
   ]
  },
  {
   "cell_type": "code",
   "execution_count": null,
   "id": "53b5d4cb",
   "metadata": {},
   "outputs": [],
   "source": []
  },
  {
   "cell_type": "code",
   "execution_count": null,
   "id": "ec8221c8",
   "metadata": {},
   "outputs": [],
   "source": []
  },
  {
   "cell_type": "code",
   "execution_count": null,
   "id": "c2acd64e",
   "metadata": {},
   "outputs": [],
   "source": []
  },
  {
   "cell_type": "code",
   "execution_count": null,
   "id": "ae7562fc",
   "metadata": {},
   "outputs": [],
   "source": []
  },
  {
   "cell_type": "markdown",
   "id": "edc7f8f4",
   "metadata": {},
   "source": [
    "# Neural Network"
   ]
  },
  {
   "cell_type": "code",
   "execution_count": null,
   "id": "6e5649bf",
   "metadata": {},
   "outputs": [],
   "source": []
  },
  {
   "cell_type": "code",
   "execution_count": null,
   "id": "1bda4e35",
   "metadata": {},
   "outputs": [],
   "source": []
  },
  {
   "cell_type": "code",
   "execution_count": null,
   "id": "e88022d0",
   "metadata": {},
   "outputs": [],
   "source": []
  }
 ],
 "metadata": {
  "kernelspec": {
   "display_name": "Python 3 (ipykernel)",
   "language": "python",
   "name": "python3"
  },
  "language_info": {
   "codemirror_mode": {
    "name": "ipython",
    "version": 3
   },
   "file_extension": ".py",
   "mimetype": "text/x-python",
   "name": "python",
   "nbconvert_exporter": "python",
   "pygments_lexer": "ipython3",
   "version": "3.9.12"
  }
 },
 "nbformat": 4,
 "nbformat_minor": 5
}
