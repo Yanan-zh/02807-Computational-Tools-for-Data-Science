{
 "cells": [
  {
   "cell_type": "code",
   "execution_count": 2,
   "id": "e552fd72",
   "metadata": {},
   "outputs": [],
   "source": [
    "import numpy as np\n",
    "import pandas as pd\n",
    "import seaborn as sns\n",
    "import matplotlib.pyplot as plt\n",
    "import folium\n",
    "from sklearn.cluster import DBSCAN\n",
    "from sklearn.metrics import silhouette_score as ss\n",
    "import itertools\n",
    "from sklearn.neighbors import NearestNeighbors\n",
    "from matplotlib import pyplot as plt\n",
    "import random"
   ]
  },
  {
   "cell_type": "code",
   "execution_count": null,
   "id": "19c78311",
   "metadata": {},
   "outputs": [],
   "source": [
    "df = pd.read_csv('../../US_Accidents_May19_Migrated Data.csv')"
   ]
  },
  {
   "cell_type": "code",
   "execution_count": null,
   "id": "ca5fa24f",
   "metadata": {},
   "outputs": [],
   "source": [
    "df.head()"
   ]
  },
  {
   "cell_type": "code",
   "execution_count": null,
   "id": "787a16ad",
   "metadata": {},
   "outputs": [],
   "source": [
    "\n",
    "US_loca_df = df[['Start_Lat','Start_Lng']]\n",
    "US_loca_df.columns = [\"latitude\", \"longitude\"]\n",
    "coords = US_loca_df[[\"latitude\", \"longitude\"]]\n",
    "X = US_loca_df.to_numpy()"
   ]
  },
  {
   "cell_type": "code",
   "execution_count": null,
   "id": "95ffc97a",
   "metadata": {},
   "outputs": [],
   "source": [
    "US_loca_df.head()"
   ]
  },
  {
   "cell_type": "code",
   "execution_count": null,
   "id": "e3001d90",
   "metadata": {},
   "outputs": [],
   "source": [
    "# random select 100000 samples\n",
    "l = list(range(2243939))\n",
    "random.seed(10)\n",
    "pick = sorted(random.sample(l, 100000))\n"
   ]
  },
  {
   "cell_type": "code",
   "execution_count": null,
   "id": "2c69140a",
   "metadata": {},
   "outputs": [],
   "source": [
    "US_picked_df = US_loca_df.iloc[pick]\n",
    "US_picked_df"
   ]
  },
  {
   "cell_type": "code",
   "execution_count": null,
   "id": "c2973847",
   "metadata": {},
   "outputs": [],
   "source": [
    "X = US_picked_df.to_numpy()"
   ]
  },
  {
   "cell_type": "code",
   "execution_count": null,
   "id": "1d659703",
   "metadata": {},
   "outputs": [],
   "source": []
  },
  {
   "cell_type": "code",
   "execution_count": null,
   "id": "86111d4d",
   "metadata": {},
   "outputs": [],
   "source": [
    "plt.scatter( US_loca_df[\"longitude\"],US_loca_df[\"latitude\"],s=2)"
   ]
  },
  {
   "cell_type": "code",
   "execution_count": null,
   "id": "f093cd95",
   "metadata": {},
   "outputs": [],
   "source": [
    "plt.scatter( US_picked_df[\"longitude\"],US_picked_df[\"latitude\"],s=2)"
   ]
  },
  {
   "cell_type": "code",
   "execution_count": null,
   "id": "f739971e",
   "metadata": {},
   "outputs": [],
   "source": [
    "#elbow method define range of eps\n",
    "neigh = NearestNeighbors(n_neighbors=300)\n",
    "nbrs = neigh.fit(np.radians(X))\n",
    "distances, indices = nbrs.kneighbors(np.radians(X))\n",
    "distances = distances[:, 1]\n",
    "distances = np.sort(distances, axis=0)\n",
    "fig=plt.figure()\n",
    "plt.plot(distances)"
   ]
  },
  {
   "cell_type": "code",
   "execution_count": null,
   "id": "5c1d917e",
   "metadata": {},
   "outputs": [],
   "source": [
    "distances = np.sort(distances, axis=0)\n",
    "fig=plt.figure()\n",
    "plt.plot(distances)\n",
    "plt.xlim(99500, 100300)"
   ]
  },
  {
   "cell_type": "code",
   "execution_count": null,
   "id": "b0f3c36c",
   "metadata": {},
   "outputs": [],
   "source": []
  },
  {
   "cell_type": "code",
   "execution_count": null,
   "id": "10f80dae",
   "metadata": {},
   "outputs": [],
   "source": [
    "# test\n",
    "dbscan_cluster_model = DBSCAN(eps=0.014, min_samples=300, algorithm='ball_tree', metric='haversine').fit(np.radians(X))\n",
    "dbscan_cluster_model\n",
    "dbscan_cluster_model.labels_"
   ]
  },
  {
   "cell_type": "code",
   "execution_count": null,
   "id": "af89dd0a",
   "metadata": {},
   "outputs": [],
   "source": [
    "US_picked_df['cluster'] = dbscan_cluster_model.labels_\n",
    "\n",
    "US_picked_df"
   ]
  },
  {
   "cell_type": "code",
   "execution_count": null,
   "id": "4d408dd1",
   "metadata": {
    "scrolled": true
   },
   "outputs": [],
   "source": [
    "# visualise test\n",
    "location = US_picked_df['latitude'].mean(), US_picked_df['longitude'].mean()\n",
    "\n",
    "m = folium.Map(location=location,zoom_start=5,control_scale = True)\n",
    "\n",
    "folium.TileLayer('cartodbpositron').add_to(m)\n",
    "\n",
    "clust_colours = ['#a6cee3','#1f78b4','#b2df8a','#33a02c','#fb9a99','#e31a1c','#fdbf6f','#ff7f00','#cab2d6','#6a3d9a','#ffff99','#b15928']\n",
    "\n",
    "for i in range(0,len(US_picked_df)):\n",
    "    colouridx = US_picked_df['cluster'].iloc[i]\n",
    "    if colouridx == -1:\n",
    "        pass\n",
    "    else:\n",
    "        col = clust_colours[colouridx%len(clust_colours)]\n",
    "        folium.CircleMarker([US_picked_df['latitude'].iloc[i],US_picked_df['longitude'].iloc[i]], radius = 10, color = col, fill = col).add_to(m)\n",
    "\n",
    "m\n"
   ]
  },
  {
   "cell_type": "code",
   "execution_count": null,
   "id": "91462ccb",
   "metadata": {},
   "outputs": [],
   "source": []
  },
  {
   "cell_type": "code",
   "execution_count": null,
   "id": "388a1582",
   "metadata": {},
   "outputs": [],
   "source": [
    "# score of test\n",
    "ss(X, US_picked_df['cluster'])"
   ]
  },
  {
   "cell_type": "code",
   "execution_count": null,
   "id": "f9acf23e",
   "metadata": {},
   "outputs": [],
   "source": [
    "# below is testing range of min_s and eps\n",
    "\n",
    "epsilons = np.linspace(0.014,0.014, num=1)\n",
    "epsilons"
   ]
  },
  {
   "cell_type": "code",
   "execution_count": null,
   "id": "9b799038",
   "metadata": {},
   "outputs": [],
   "source": [
    "min_samples = np.arange(930, 990, step=20) \n",
    "min_samples"
   ]
  },
  {
   "cell_type": "code",
   "execution_count": null,
   "id": "f5696760",
   "metadata": {},
   "outputs": [],
   "source": [
    "combinations = list(itertools.product(epsilons, min_samples))\n",
    "combinations"
   ]
  },
  {
   "cell_type": "code",
   "execution_count": null,
   "id": "5cdadbe3",
   "metadata": {},
   "outputs": [],
   "source": [
    "N = len(combinations)\n",
    "N"
   ]
  },
  {
   "cell_type": "code",
   "execution_count": null,
   "id": "4f10a1d6",
   "metadata": {},
   "outputs": [],
   "source": [
    "# find best model\n",
    "def get_scores_and_labels(combinations, X):\n",
    "  scores = []\n",
    "  all_labels_list = []\n",
    "  \n",
    "\n",
    "  for i, (eps, num_samples) in enumerate(combinations):\n",
    "    \n",
    "    dbscan_cluster_model = DBSCAN(eps= eps, min_samples= num_samples, algorithm='ball_tree', metric='haversine').fit(np.radians(X))\n",
    "    labels = dbscan_cluster_model.labels_\n",
    "    labels_set = set(labels)\n",
    "    num_clusters = len(labels_set)\n",
    "    if -1 in labels_set:\n",
    "      num_clusters -= 1\n",
    "    \n",
    "    if (num_clusters < 2) or (num_clusters > 100):\n",
    "      scores.append(-10)\n",
    "      all_labels_list.append('bad')\n",
    "      c = (eps, num_samples)\n",
    "      print(f\"Combination {c} on iteration {i+1} of {N} has {num_clusters} clusters. Moving on\")\n",
    "      continue\n",
    "    \n",
    "    scores.append(ss(X, labels))\n",
    "    all_labels_list.append(labels)\n",
    "    print(f\"Index: {i}, Score: {scores[-1]}, Labels: {all_labels_list[-1]}, NumClusters: {num_clusters}\")\n",
    "\n",
    "  best_index = np.argmax(scores)\n",
    "  best_parameters = combinations[best_index]\n",
    "  best_labels = all_labels_list[best_index]\n",
    "  best_score = scores[best_index]\n",
    "\n",
    "  return {'best_epsilon': best_parameters[0],\n",
    "          'best_min_samples': best_parameters[1], \n",
    "          'best_labels': best_labels,\n",
    "          'best_score': best_score}\n",
    "\n",
    "best_dict = get_scores_and_labels(combinations, X)"
   ]
  },
  {
   "cell_type": "code",
   "execution_count": null,
   "id": "270a0b37",
   "metadata": {},
   "outputs": [],
   "source": [
    "best_dict"
   ]
  },
  {
   "cell_type": "code",
   "execution_count": null,
   "id": "98bdf3d2",
   "metadata": {},
   "outputs": [],
   "source": [
    "US_picked_df['cluster'] = best_dict['best_labels']"
   ]
  },
  {
   "cell_type": "code",
   "execution_count": null,
   "id": "bcd55bd5",
   "metadata": {
    "scrolled": true
   },
   "outputs": [],
   "source": [
    "#visualisation \n",
    "location = US_picked_df['latitude'].mean(), US_picked_df['longitude'].mean()\n",
    "\n",
    "m = folium.Map(location=location,zoom_start=5,control_scale = True)\n",
    "\n",
    "folium.TileLayer('cartodbpositron').add_to(m)\n",
    "\n",
    "clust_colours = ['#a6cee3','#1f78b4','#b2df8a','#33a02c','#fb9a99','#e31a1c','#fdbf6f','#ff7f00','#cab2d6','#6a3d9a','#ffff99','#b15928']\n",
    "\n",
    "for i in range(0,len(US_picked_df)):\n",
    "    colouridx = US_picked_df['cluster'].iloc[i]\n",
    "    if colouridx == -1:\n",
    "        pass\n",
    "    else:\n",
    "        col = clust_colours[colouridx%len(clust_colours)]\n",
    "        folium.CircleMarker([US_picked_df['latitude'].iloc[i],US_picked_df['longitude'].iloc[i]], radius = 10, color = col, fill = col).add_to(m)\n",
    "\n",
    "m"
   ]
  },
  {
   "cell_type": "code",
   "execution_count": null,
   "id": "cb0cb4e6",
   "metadata": {},
   "outputs": [],
   "source": []
  }
 ],
 "metadata": {
  "kernelspec": {
   "display_name": "Python 3 (ipykernel)",
   "language": "python",
   "name": "python3"
  },
  "language_info": {
   "codemirror_mode": {
    "name": "ipython",
    "version": 3
   },
   "file_extension": ".py",
   "mimetype": "text/x-python",
   "name": "python",
   "nbconvert_exporter": "python",
   "pygments_lexer": "ipython3",
   "version": "3.9.12"
  }
 },
 "nbformat": 4,
 "nbformat_minor": 5
}
