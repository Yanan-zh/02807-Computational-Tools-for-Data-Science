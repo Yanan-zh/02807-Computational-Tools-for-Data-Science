{
 "cells": [
  {
   "cell_type": "code",
   "execution_count": null,
   "metadata": {},
   "outputs": [],
   "source": [
    "\n",
    "#Import libaries\n",
    "\n",
    "#For reading data from cvc\n",
    "import pandas as pd\n",
    "\n",
    "#Calculation\n",
    "import numpy as np\n",
    "\n",
    "#Calculation\n",
    "import matplotlib.pyplot as plt\n",
    "import matplotlib.cm as cm\n",
    "import matplotlib.colors as colors\n",
    "\n",
    "\n",
    "#For KMeans\n",
    "from sklearn.preprocessing import StandardScaler\n",
    "from sklearn.cluster import KMeans\n",
    "from scipy.cluster.vq import kmeans, vq,whiten\n",
    "from sklearn.metrics import silhouette_score\n",
    "\n",
    "#For faster computation(?)\n",
    "from numba import jit \n",
    "\n",
    "#For randomize\n",
    "import random\n",
    "\n",
    "#For Mapping\n",
    "from geopandas import GeoDataFrame\n",
    "import seaborn as sns\n",
    "from shapely.geometry import Point\n",
    "import geopandas as gpd\n",
    "\n",
    "import folium"
   ]
  },
  {
   "cell_type": "code",
   "execution_count": null,
   "metadata": {},
   "outputs": [],
   "source": [
    "#Supress warnings for jit\n",
    "import logging;\n",
    "logger = logging.getLogger(\"numba\")\n",
    "logger.setLevel(logging.ERROR)"
   ]
  },
  {
   "cell_type": "code",
   "execution_count": null,
   "metadata": {},
   "outputs": [],
   "source": [
    "#Get data with pd\n",
    "\"\"\"Take in the file\"\"\"\n",
    "df = pd.read_csv('US_Accidents_May19_Migrated Data.csv')\n",
    "df.head()"
   ]
  },
  {
   "cell_type": "code",
   "execution_count": null,
   "metadata": {},
   "outputs": [],
   "source": [
    "city = df.loc[df['City'] == \"New York\"]\n",
    "\n",
    "print(city[\"Start_Lat\"[:20]])\n",
    "print(city[\"End_Lng\"[:20]])"
   ]
  },
  {
   "cell_type": "code",
   "execution_count": null,
   "metadata": {},
   "outputs": [],
   "source": [
    "#Acess wanted column and convert to numpy\n",
    "latitude = np.array(df[\"Start_Lat\"])\n",
    "longitude = np.array(df[\"Start_Lng\"])\n"
   ]
  },
  {
   "cell_type": "code",
   "execution_count": null,
   "metadata": {},
   "outputs": [],
   "source": [
    "#To see if latitude and longitude match in case some data are lost or NaN\n",
    "@jit(nopython = True)\n",
    "def match() -> bool:\n",
    "    if (len(latitude) == len(longitude)):\n",
    "        return True\n",
    "    else:\n",
    "        return False\n",
    "    \n",
    "print(match())"
   ]
  },
  {
   "cell_type": "code",
   "execution_count": null,
   "metadata": {},
   "outputs": [],
   "source": [
    "#To get easy acess of the data\n",
    "#np.savetxt(r'lng.txt', longitude, fmt='%1.6f')\n",
    "#np.savetxt(r'lat.txt', latitude, fmt='%1.6f')"
   ]
  },
  {
   "cell_type": "code",
   "execution_count": null,
   "metadata": {},
   "outputs": [],
   "source": [
    "#Combining the latitude og longitude together\n",
    "@jit \n",
    "def comb(lat : list ,long : list) -> list:\n",
    "    data = np.column_stack((lat,long))\n",
    "    return data\n",
    "\n",
    "data = comb(latitude,longitude)"
   ]
  },
  {
   "cell_type": "code",
   "execution_count": null,
   "metadata": {},
   "outputs": [],
   "source": [
    "#Just in case, the coordinates are saved to a file\n",
    "#np.savetxt(r'Points.txt', data, fmt='%1.6f') #uncomment to save as txt"
   ]
  },
  {
   "cell_type": "markdown",
   "metadata": {},
   "source": [
    "Beacuse the data are over 2 millions for each axis, the analysis will be taking a random sample of 100 000 of them."
   ]
  },
  {
   "cell_type": "code",
   "execution_count": null,
   "metadata": {},
   "outputs": [],
   "source": [
    "#Choosing random points with seed(10)\n",
    "def random_sample() -> list:\n",
    "    l = list(range(2243939))\n",
    "    random.seed(10)\n",
    "    sorted_list = sorted(random.sample(l, 100000))\n",
    "    return sorted_list\n",
    "\n",
    "pick = np.array(random_sample())"
   ]
  },
  {
   "cell_type": "code",
   "execution_count": null,
   "metadata": {},
   "outputs": [],
   "source": [
    "#Create an subset from the random sample\n",
    "#@jit\n",
    "def data_sub_set(random_list : list , data_set : list) -> list:\n",
    "    #ramdom_list is the random index we will pick from\n",
    "    #data_set is which data points we will pick from\n",
    "    sub_set = np.empty([len(random_list),2])\n",
    "    iterator = 0\n",
    "    for i in random_list:\n",
    "        sub_set[iterator] = data_set[i]\n",
    "        iterator += 1\n",
    "    return sub_set\n",
    "\n",
    "new_set = data_sub_set(pick,data)"
   ]
  },
  {
   "cell_type": "code",
   "execution_count": null,
   "metadata": {},
   "outputs": [],
   "source": [
    "#To see how the random data is spread out on a grid\n",
    "new_set = data_sub_set(pick,data)\n",
    "new_lat = np.array([row[0] for row in new_set])\n",
    "new_lng = np.array([row[1] for row in new_set])\n",
    "\n",
    "\n",
    "plt.scatter(new_lat ,new_lng,s=4)\n",
    "plt.grid(True)\n",
    "plt.show()"
   ]
  },
  {
   "cell_type": "code",
   "execution_count": null,
   "metadata": {},
   "outputs": [],
   "source": [
    "#To Calculate number of optimal k means\n",
    "#This function shows how many cluster point we should have. \n",
    "def optimise_k_means(data, max_k): \n",
    "  means = []\n",
    "  inertias = []\n",
    "  \n",
    "  for k in range(1,max_k):\n",
    "      kmeans = KMeans(n_clusters = k) \n",
    "      kmeans.fit(data) \n",
    "      \n",
    "      means.append(k)\n",
    "      inertias.append(kmeans.inertia_)\n",
    "      \n",
    "  #Generate plot\n",
    "  fig = plt.subplots(figsize = (10,5))\n",
    "  plt.plot(means,inertias, \"o-\")\n",
    "  plt.xlabel(\"Numbers of Clusters\")\n",
    "  plt.ylabel(\"Inertia\")\n",
    "  plt.grid(True)\n",
    "  plt.show()\n",
    "  \n",
    "optimise_k_means(new_set,10)"
   ]
  },
  {
   "cell_type": "markdown",
   "metadata": {},
   "source": [
    "By looking at the plot we can see that the number of cluster is 3 Another method to confirm this is to use silhoutte method."
   ]
  },
  {
   "cell_type": "code",
   "execution_count": null,
   "metadata": {},
   "outputs": [],
   "source": [
    "#Calculate silhoutte_method\n",
    "def silhoutte_method(data, max_k):\n",
    "    sil = [None,None]\n",
    "    \n",
    "    for k in range(2,max_k+1):\n",
    "        kmeans = KMeans(n_clusters = k).fit(data)\n",
    "        labels = kmeans.labels_\n",
    "        \n",
    "        sil.append(silhouette_score(data, labels, metric = 'euclidean'))\n",
    "    return sil\n",
    "    "
   ]
  },
  {
   "cell_type": "code",
   "execution_count": null,
   "metadata": {},
   "outputs": [],
   "source": [
    "\"\"\"This does not work. Takes to long???\"\"\"\n",
    "#Generate plot \n",
    "# fig = plt.subplots(figsize = (10,5))\n",
    "# plt.plot(silhoutte_method(new_set,10), 10)\n",
    "# plt.xlabel(\"Numbers of Clusters\")\n",
    "# plt.ylabel(\"silhouette score\")\n",
    "# plt.grid(True)\n",
    "# plt.show()\n"
   ]
  },
  {
   "cell_type": "code",
   "execution_count": null,
   "metadata": {},
   "outputs": [],
   "source": [
    "#Generete the k_mean cluster plot\n",
    "#Making the cluster plot \n",
    "def create_cluster_plot(numb_cluster : int , data):\n",
    "    x_pt = np.array([row[0] for row in data])\n",
    "    y_pt = np.array([row[1] for row in data])\n",
    "    kmeans = KMeans(n_clusters = numb_cluster)\n",
    "    kmeans.fit(data)\n",
    "    kmeans_label = kmeans.labels_\n",
    "    \n",
    "    plt.scatter(x = x_pt, y= y_pt , c = kmeans_label)\n",
    "    plt.show()\n",
    "\n",
    "\n",
    "create_cluster_plot(3,new_set)"
   ]
  },
  {
   "cell_type": "code",
   "execution_count": null,
   "metadata": {},
   "outputs": [],
   "source": [
    "#Tried to make a subplot, but does not work\n",
    "def comparing_n_cluster(max_cluster : int, data):\n",
    "\n",
    "    list_of_means = []\n",
    "    x_pt = np.array([row[0] for row in new_set])\n",
    "    y_pt = np.array([row[1] for row in data])\n",
    "    for k in range(1,max_cluster):\n",
    "        kmeans = KMeans(n_clusters=k)\n",
    "        kmeans.fit(data)\n",
    "        kmeans_label = kmeans.labels_\n",
    "        list_of_means.append(kmeans_label)\n",
    "    \n",
    "    #fig, axs = plt.subplots(nrows=1, ncols=5, figsize=(20,5))\n",
    "    \n",
    "    ist_of_means = list(list_of_means)\n",
    "    \n",
    "    #for i, ax in enumerate(fig.axes,start=1):\n",
    "    #    ax.scatter(x = np.array(row[0] for row in data), y = np.array(row[1] for row in data))\n",
    "    for i in range(1,max_cluster):\n",
    "        plt.scatter(x = x_pt, y = y_pt , c = list_of_means[i])\n",
    "        plt.show()\n",
    "    \n",
    "        \n",
    "comparing_n_cluster(6, new_set)"
   ]
  },
  {
   "cell_type": "code",
   "execution_count": null,
   "metadata": {},
   "outputs": [],
   "source": [
    "#For comparing different cluster\n",
    "for i in range(2,6):\n",
    "    create_cluster_plot(i,new_set)\n"
   ]
  },
  {
   "cell_type": "code",
   "execution_count": null,
   "metadata": {},
   "outputs": [],
   "source": [
    "lat = np.array([row[0] for row in new_set])\n",
    "long = np.array([row[1] for row in new_set])\n",
    "\n",
    "latitude = 38.500000\n",
    "longitude = -95.665\n",
    "\n",
    "\n",
    "map_clusters = folium.Map(location=[latitude,longitude], zoom_start=4)\n",
    "\n",
    "kmeans = KMeans(n_clusters = 3)\n",
    "kmeans.fit(new_set)\n",
    "kmeans_label = kmeans.labels_\n",
    "\n",
    "# set color scheme for the clusters\n",
    "x = np.arange(4)\n",
    "ys = [i + x + (i*x)**2 for i in range(4)]\n",
    "colors_array = cm.rainbow(np.linspace(0, 1, len(ys)))\n",
    "rainbow = [colors.rgb2hex(i) for i in colors_array]\n",
    "\n",
    "# add markers to the map\n",
    "markers_colors = []\n",
    "for lat, lng,cluster, in zip(lat,long,kmeans_label):\n",
    "    #label = folium.Popup(str(city)+ ','+str(state) + '- Cluster ' + str(cluster), parse_html=True)\n",
    "    folium.vector_layers.CircleMarker(\n",
    "        [lat, lng],\n",
    "        radius=5,\n",
    "        #popup=label,\n",
    "        #tooltip = str(\"New York\")+ ',' +str(state) + ' - Cluster ' + str(cluster),\n",
    "        color=rainbow[cluster-1],\n",
    "        fill=True,\n",
    "        fill_color=rainbow[cluster-1],\n",
    "        fill_opacity=0.9).add_to(map_clusters)\n",
    "       \n",
    "map_clusters"
   ]
  },
  {
   "cell_type": "code",
   "execution_count": null,
   "metadata": {},
   "outputs": [],
   "source": []
  }
 ],
 "metadata": {
  "kernelspec": {
   "display_name": "Python 3.10.7 ('.venv': venv)",
   "language": "python",
   "name": "python3"
  },
  "language_info": {
   "codemirror_mode": {
    "name": "ipython",
    "version": 3
   },
   "file_extension": ".py",
   "mimetype": "text/x-python",
   "name": "python",
   "nbconvert_exporter": "python",
   "pygments_lexer": "ipython3",
   "version": "3.10.7"
  },
  "orig_nbformat": 4,
  "vscode": {
   "interpreter": {
    "hash": "cda9ce8d37873781ffa156bce1ba1ba8d7b444f84fa8e094327ec1cc704afe1d"
   }
  }
 },
 "nbformat": 4,
 "nbformat_minor": 2
}
